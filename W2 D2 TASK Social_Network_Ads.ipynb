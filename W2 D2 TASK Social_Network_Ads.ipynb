{
 "cells": [
  {
   "cell_type": "code",
   "execution_count": 209,
   "metadata": {},
   "outputs": [],
   "source": [
    "import pandas as pd\n",
    "import numpy as np\n",
    "import matplotlib.pyplot as plt\n",
    "import seaborn as sns\n",
    "import plotly.express as px\n",
    "from sklearn.linear_model import LinearRegression, Lasso , Ridge ,LogisticRegression\n",
    "from sklearn.model_selection import train_test_split , GridSearchCV\n",
    "from sklearn.metrics import mean_squared_error,mean_absolute_error,r2_score,accuracy_score,confusion_matrix,recall_score,precision_score,root_mean_squared_error,root_mean_squared_log_error\n",
    "from sklearn.metrics import f1_score,classification_report,roc_curve,roc_auc_score\n",
    "from sklearn.preprocessing import PolynomialFeatures,StandardScaler,OneHotEncoder , LabelEncoder,MinMaxScaler\n",
    "from sklearn import linear_model\n",
    "import math\n",
    "from sklearn.impute import SimpleImputer\n",
    "from imblearn.under_sampling import RandomUnderSampler\n",
    "import xgboost as xgb\n",
    "from imblearn.over_sampling import SMOTE\n",
    "from sklearn.neighbors import KNeighborsClassifier,KNeighborsRegressor\n",
    "from sklearn.svm import SVC,SVR\n",
    "from sklearn.tree import DecisionTreeRegressor , plot_tree, DecisionTreeClassifier\n",
    "from sklearn.ensemble import RandomForestClassifier , GradientBoostingClassifier,BaggingClassifier,AdaBoostClassifier , RandomForestRegressor\n",
    "from sklearn.datasets import load_iris\n",
    "import warnings\n",
    "warnings.simplefilter(action='ignore', category=FutureWarning)\n",
    "pd.set_option('display.max_rows', None) \n",
    "pd.set_option('display.max_columns', None)"
   ]
  },
  {
   "cell_type": "code",
   "execution_count": 210,
   "metadata": {},
   "outputs": [
    {
     "name": "stdout",
     "output_type": "stream",
     "text": [
      "(400, 5)\n"
     ]
    },
    {
     "data": {
      "text/html": [
       "<div>\n",
       "<style scoped>\n",
       "    .dataframe tbody tr th:only-of-type {\n",
       "        vertical-align: middle;\n",
       "    }\n",
       "\n",
       "    .dataframe tbody tr th {\n",
       "        vertical-align: top;\n",
       "    }\n",
       "\n",
       "    .dataframe thead th {\n",
       "        text-align: right;\n",
       "    }\n",
       "</style>\n",
       "<table border=\"1\" class=\"dataframe\">\n",
       "  <thead>\n",
       "    <tr style=\"text-align: right;\">\n",
       "      <th></th>\n",
       "      <th>User ID</th>\n",
       "      <th>Gender</th>\n",
       "      <th>Age</th>\n",
       "      <th>EstimatedSalary</th>\n",
       "      <th>Purchased</th>\n",
       "    </tr>\n",
       "  </thead>\n",
       "  <tbody>\n",
       "    <tr>\n",
       "      <th>0</th>\n",
       "      <td>15624510</td>\n",
       "      <td>Male</td>\n",
       "      <td>19</td>\n",
       "      <td>19000</td>\n",
       "      <td>0</td>\n",
       "    </tr>\n",
       "    <tr>\n",
       "      <th>1</th>\n",
       "      <td>15810944</td>\n",
       "      <td>Male</td>\n",
       "      <td>35</td>\n",
       "      <td>20000</td>\n",
       "      <td>0</td>\n",
       "    </tr>\n",
       "    <tr>\n",
       "      <th>2</th>\n",
       "      <td>15668575</td>\n",
       "      <td>Female</td>\n",
       "      <td>26</td>\n",
       "      <td>43000</td>\n",
       "      <td>0</td>\n",
       "    </tr>\n",
       "    <tr>\n",
       "      <th>3</th>\n",
       "      <td>15603246</td>\n",
       "      <td>Female</td>\n",
       "      <td>27</td>\n",
       "      <td>57000</td>\n",
       "      <td>0</td>\n",
       "    </tr>\n",
       "    <tr>\n",
       "      <th>4</th>\n",
       "      <td>15804002</td>\n",
       "      <td>Male</td>\n",
       "      <td>19</td>\n",
       "      <td>76000</td>\n",
       "      <td>0</td>\n",
       "    </tr>\n",
       "  </tbody>\n",
       "</table>\n",
       "</div>"
      ],
      "text/plain": [
       "    User ID  Gender  Age  EstimatedSalary  Purchased\n",
       "0  15624510    Male   19            19000          0\n",
       "1  15810944    Male   35            20000          0\n",
       "2  15668575  Female   26            43000          0\n",
       "3  15603246  Female   27            57000          0\n",
       "4  15804002    Male   19            76000          0"
      ]
     },
     "execution_count": 210,
     "metadata": {},
     "output_type": "execute_result"
    }
   ],
   "source": [
    "df = pd.read_csv('Social_Network_Ads.CSV')\n",
    "print (df .shape)\n",
    "df.head()"
   ]
  },
  {
   "cell_type": "code",
   "execution_count": 211,
   "metadata": {},
   "outputs": [
    {
     "name": "stdout",
     "output_type": "stream",
     "text": [
      "<class 'pandas.core.frame.DataFrame'>\n",
      "RangeIndex: 400 entries, 0 to 399\n",
      "Data columns (total 5 columns):\n",
      " #   Column           Non-Null Count  Dtype \n",
      "---  ------           --------------  ----- \n",
      " 0   User ID          400 non-null    int64 \n",
      " 1   Gender           400 non-null    object\n",
      " 2   Age              400 non-null    int64 \n",
      " 3   EstimatedSalary  400 non-null    int64 \n",
      " 4   Purchased        400 non-null    int64 \n",
      "dtypes: int64(4), object(1)\n",
      "memory usage: 15.8+ KB\n"
     ]
    }
   ],
   "source": [
    "df.info()\n"
   ]
  },
  {
   "cell_type": "code",
   "execution_count": 212,
   "metadata": {},
   "outputs": [
    {
     "data": {
      "text/html": [
       "<div>\n",
       "<style scoped>\n",
       "    .dataframe tbody tr th:only-of-type {\n",
       "        vertical-align: middle;\n",
       "    }\n",
       "\n",
       "    .dataframe tbody tr th {\n",
       "        vertical-align: top;\n",
       "    }\n",
       "\n",
       "    .dataframe thead th {\n",
       "        text-align: right;\n",
       "    }\n",
       "</style>\n",
       "<table border=\"1\" class=\"dataframe\">\n",
       "  <thead>\n",
       "    <tr style=\"text-align: right;\">\n",
       "      <th></th>\n",
       "      <th>User ID</th>\n",
       "      <th>Age</th>\n",
       "      <th>EstimatedSalary</th>\n",
       "      <th>Purchased</th>\n",
       "    </tr>\n",
       "  </thead>\n",
       "  <tbody>\n",
       "    <tr>\n",
       "      <th>count</th>\n",
       "      <td>4.000000e+02</td>\n",
       "      <td>400.000000</td>\n",
       "      <td>400.000000</td>\n",
       "      <td>400.000000</td>\n",
       "    </tr>\n",
       "    <tr>\n",
       "      <th>mean</th>\n",
       "      <td>1.569154e+07</td>\n",
       "      <td>37.655000</td>\n",
       "      <td>69742.500000</td>\n",
       "      <td>0.357500</td>\n",
       "    </tr>\n",
       "    <tr>\n",
       "      <th>std</th>\n",
       "      <td>7.165832e+04</td>\n",
       "      <td>10.482877</td>\n",
       "      <td>34096.960282</td>\n",
       "      <td>0.479864</td>\n",
       "    </tr>\n",
       "    <tr>\n",
       "      <th>min</th>\n",
       "      <td>1.556669e+07</td>\n",
       "      <td>18.000000</td>\n",
       "      <td>15000.000000</td>\n",
       "      <td>0.000000</td>\n",
       "    </tr>\n",
       "    <tr>\n",
       "      <th>25%</th>\n",
       "      <td>1.562676e+07</td>\n",
       "      <td>29.750000</td>\n",
       "      <td>43000.000000</td>\n",
       "      <td>0.000000</td>\n",
       "    </tr>\n",
       "    <tr>\n",
       "      <th>50%</th>\n",
       "      <td>1.569434e+07</td>\n",
       "      <td>37.000000</td>\n",
       "      <td>70000.000000</td>\n",
       "      <td>0.000000</td>\n",
       "    </tr>\n",
       "    <tr>\n",
       "      <th>75%</th>\n",
       "      <td>1.575036e+07</td>\n",
       "      <td>46.000000</td>\n",
       "      <td>88000.000000</td>\n",
       "      <td>1.000000</td>\n",
       "    </tr>\n",
       "    <tr>\n",
       "      <th>max</th>\n",
       "      <td>1.581524e+07</td>\n",
       "      <td>60.000000</td>\n",
       "      <td>150000.000000</td>\n",
       "      <td>1.000000</td>\n",
       "    </tr>\n",
       "  </tbody>\n",
       "</table>\n",
       "</div>"
      ],
      "text/plain": [
       "            User ID         Age  EstimatedSalary   Purchased\n",
       "count  4.000000e+02  400.000000       400.000000  400.000000\n",
       "mean   1.569154e+07   37.655000     69742.500000    0.357500\n",
       "std    7.165832e+04   10.482877     34096.960282    0.479864\n",
       "min    1.556669e+07   18.000000     15000.000000    0.000000\n",
       "25%    1.562676e+07   29.750000     43000.000000    0.000000\n",
       "50%    1.569434e+07   37.000000     70000.000000    0.000000\n",
       "75%    1.575036e+07   46.000000     88000.000000    1.000000\n",
       "max    1.581524e+07   60.000000    150000.000000    1.000000"
      ]
     },
     "execution_count": 212,
     "metadata": {},
     "output_type": "execute_result"
    }
   ],
   "source": [
    "df.describe()"
   ]
  },
  {
   "cell_type": "code",
   "execution_count": 213,
   "metadata": {},
   "outputs": [
    {
     "data": {
      "text/plain": [
       "User ID            0\n",
       "Gender             0\n",
       "Age                0\n",
       "EstimatedSalary    0\n",
       "Purchased          0\n",
       "dtype: int64"
      ]
     },
     "execution_count": 213,
     "metadata": {},
     "output_type": "execute_result"
    }
   ],
   "source": [
    "df.isnull().sum()"
   ]
  },
  {
   "cell_type": "code",
   "execution_count": 214,
   "metadata": {},
   "outputs": [],
   "source": [
    "df.replace(\"Female\",0,inplace=True)\n",
    "df.replace(\"Male\",1,inplace=True)"
   ]
  },
  {
   "cell_type": "code",
   "execution_count": 215,
   "metadata": {},
   "outputs": [],
   "source": [
    "def fix_outliers(df, column, multiplier=1.5):\n",
    "    Q1 = df[column].quantile(0.25)\n",
    "    Q3 = df[column].quantile(0.75)\n",
    "    IQR = Q3 - Q1\n",
    "    lower_bound = Q1 - (multiplier * IQR)\n",
    "    upper_bound = Q3 + (multiplier * IQR)\n",
    "    median = df[column].median()\n",
    "    \n",
    "    return df[column].apply(lambda x: median if x < lower_bound or x > upper_bound else x)"
   ]
  },
  {
   "cell_type": "code",
   "execution_count": 216,
   "metadata": {},
   "outputs": [
    {
     "data": {
      "text/plain": [
       "Purchased\n",
       "0    257\n",
       "1    143\n",
       "Name: count, dtype: int64"
      ]
     },
     "execution_count": 216,
     "metadata": {},
     "output_type": "execute_result"
    }
   ],
   "source": [
    "df[\"Purchased\"].value_counts()"
   ]
  },
  {
   "cell_type": "code",
   "execution_count": 217,
   "metadata": {},
   "outputs": [],
   "source": [
    "df.drop('User ID',axis=1,inplace=True)"
   ]
  },
  {
   "cell_type": "markdown",
   "metadata": {},
   "source": [
    "un sampel and un scaled data "
   ]
  },
  {
   "cell_type": "code",
   "execution_count": 218,
   "metadata": {},
   "outputs": [
    {
     "name": "stdout",
     "output_type": "stream",
     "text": [
      "Accuracy_train: 0.8375\n",
      "classification_report_train:               precision    recall  f1-score   support\n",
      "\n",
      "           0       0.84      0.92      0.88       205\n",
      "           1       0.83      0.69      0.75       115\n",
      "\n",
      "    accuracy                           0.84       320\n",
      "   macro avg       0.84      0.80      0.82       320\n",
      "weighted avg       0.84      0.84      0.83       320\n",
      "\n",
      "----------------------------------------------------------------------------------------------------\n",
      "Accuracy_test: 0.8875\n",
      "classification_report_test:               precision    recall  f1-score   support\n",
      "\n",
      "           0       0.88      0.96      0.92        52\n",
      "           1       0.91      0.75      0.82        28\n",
      "\n",
      "    accuracy                           0.89        80\n",
      "   macro avg       0.90      0.86      0.87        80\n",
      "weighted avg       0.89      0.89      0.88        80\n",
      "\n"
     ]
    }
   ],
   "source": [
    "log_model = LogisticRegression()\n",
    "X = df[[\"EstimatedSalary\", \"Age\"]]\n",
    "y = df['Purchased']\n",
    "X_train,X_test,y_train,y_test = train_test_split(X,y,test_size=0.2,random_state=42)\n",
    "log_model.fit(X_train,y_train)\n",
    "\n",
    "y_pred_train = log_model.predict(X_train)\n",
    "print('Accuracy_train:',accuracy_score(y_train,y_pred_train))\n",
    "print('classification_report_train:',classification_report(y_train,y_pred_train))\n",
    "print (\"-\"*100)\n",
    "y_pred_test = log_model.predict(X_test)\n",
    "print('Accuracy_test:',accuracy_score(y_test,y_pred_test))\n",
    "print('classification_report_test:',classification_report(y_test,y_pred_test))"
   ]
  },
  {
   "cell_type": "markdown",
   "metadata": {},
   "source": [
    "un sampel and scaled data "
   ]
  },
  {
   "cell_type": "code",
   "execution_count": 219,
   "metadata": {},
   "outputs": [
    {
     "name": "stdout",
     "output_type": "stream",
     "text": [
      "Accuracy_train: 0.8375\n",
      "classification_report_train:               precision    recall  f1-score   support\n",
      "\n",
      "           0       0.84      0.92      0.88       205\n",
      "           1       0.83      0.69      0.75       115\n",
      "\n",
      "    accuracy                           0.84       320\n",
      "   macro avg       0.84      0.80      0.82       320\n",
      "weighted avg       0.84      0.84      0.83       320\n",
      "\n",
      "----------------------------------------------------------------------------------------------------\n",
      "Accuracy_test: 0.8875\n",
      "classification_report_test:               precision    recall  f1-score   support\n",
      "\n",
      "           0       0.88      0.96      0.92        52\n",
      "           1       0.91      0.75      0.82        28\n",
      "\n",
      "    accuracy                           0.89        80\n",
      "   macro avg       0.90      0.86      0.87        80\n",
      "weighted avg       0.89      0.89      0.88        80\n",
      "\n"
     ]
    }
   ],
   "source": [
    "\n",
    "log_model = LogisticRegression()\n",
    "X = df[[\"EstimatedSalary\", \"Age\"]]\n",
    "y = df['Purchased']\n",
    "X_train,X_test,y_train,y_test = train_test_split(X,y,test_size=0.2,random_state=42)\n",
    "scaler=StandardScaler()\n",
    "x_tran_scaled=scaler.fit_transform(X_train)\n",
    "x_tast_scaled=scaler.transform(X_test)\n",
    "log_model.fit(X_train,y_train)\n",
    "y_pred_train = log_model.predict(X_train)\n",
    "print('Accuracy_train:',accuracy_score(y_train,y_pred_train))\n",
    "print('classification_report_train:',classification_report(y_train,y_pred_train))\n",
    "print (\"-\"*100)\n",
    "y_pred_test = log_model.predict(X_test)\n",
    "print('Accuracy_test:',accuracy_score(y_test,y_pred_test))\n",
    "print('classification_report_test:',classification_report(y_test,y_pred_test))"
   ]
  },
  {
   "cell_type": "markdown",
   "metadata": {},
   "source": [
    "Oversampling"
   ]
  },
  {
   "cell_type": "code",
   "execution_count": 220,
   "metadata": {},
   "outputs": [
    {
     "name": "stdout",
     "output_type": "stream",
     "text": [
      "(514, 2)\n",
      "Purchased\n",
      "0    257\n",
      "1    257\n",
      "Name: count, dtype: int64\n"
     ]
    }
   ],
   "source": [
    "# Oversampling\n",
    "from imblearn.over_sampling import SMOTE\n",
    "\n",
    "sm = SMOTE(random_state=0)\n",
    "\n",
    "X_over,y_over = sm.fit_resample(X,y)\n",
    "print(X_over.shape)\n",
    "print(y_over.value_counts())"
   ]
  },
  {
   "cell_type": "code",
   "execution_count": 221,
   "metadata": {},
   "outputs": [
    {
     "name": "stdout",
     "output_type": "stream",
     "text": [
      "Accuracy_train: 0.8321167883211679\n",
      "classification_report_train:               precision    recall  f1-score   support\n",
      "\n",
      "           0       0.83      0.83      0.83       201\n",
      "           1       0.84      0.83      0.84       210\n",
      "\n",
      "    accuracy                           0.83       411\n",
      "   macro avg       0.83      0.83      0.83       411\n",
      "weighted avg       0.83      0.83      0.83       411\n",
      "\n",
      "----------------------------------------------------------------------------------------------------\n",
      "Accuracy_test: 0.8932038834951457\n",
      "classification_report_test:               precision    recall  f1-score   support\n",
      "\n",
      "           0       0.89      0.91      0.90        56\n",
      "           1       0.89      0.87      0.88        47\n",
      "\n",
      "    accuracy                           0.89       103\n",
      "   macro avg       0.89      0.89      0.89       103\n",
      "weighted avg       0.89      0.89      0.89       103\n",
      "\n"
     ]
    }
   ],
   "source": [
    "log_model = LogisticRegression()\n",
    "X = df[[\"EstimatedSalary\", \"Age\"]]\n",
    "y = df['Purchased']\n",
    "X_train,X_test,y_train,y_test = train_test_split(X_over,y_over,test_size=0.2,random_state=42)\n",
    "log_model.fit(X_train,y_train)\n",
    "y_pred_train = log_model.predict(X_train)\n",
    "print('Accuracy_train:',accuracy_score(y_train,y_pred_train))\n",
    "print('classification_report_train:',classification_report(y_train,y_pred_train))\n",
    "print (\"-\"*100)\n",
    "y_pred_test = log_model.predict(X_test)\n",
    "print('Accuracy_test:',accuracy_score(y_test,y_pred_test))\n",
    "print('classification_report_test:',classification_report(y_test,y_pred_test))"
   ]
  },
  {
   "cell_type": "markdown",
   "metadata": {},
   "source": [
    "Oversampling _ scaled"
   ]
  },
  {
   "cell_type": "code",
   "execution_count": 222,
   "metadata": {},
   "outputs": [
    {
     "name": "stdout",
     "output_type": "stream",
     "text": [
      "Accuracy_train: 0.8321167883211679\n",
      "classification_report_train:               precision    recall  f1-score   support\n",
      "\n",
      "           0       0.83      0.83      0.83       201\n",
      "           1       0.84      0.83      0.84       210\n",
      "\n",
      "    accuracy                           0.83       411\n",
      "   macro avg       0.83      0.83      0.83       411\n",
      "weighted avg       0.83      0.83      0.83       411\n",
      "\n",
      "----------------------------------------------------------------------------------------------------\n",
      "Accuracy_test: 0.8932038834951457\n",
      "classification_report_test:               precision    recall  f1-score   support\n",
      "\n",
      "           0       0.89      0.91      0.90        56\n",
      "           1       0.89      0.87      0.88        47\n",
      "\n",
      "    accuracy                           0.89       103\n",
      "   macro avg       0.89      0.89      0.89       103\n",
      "weighted avg       0.89      0.89      0.89       103\n",
      "\n"
     ]
    }
   ],
   "source": [
    "log_model = LogisticRegression()\n",
    "X = df[[\"EstimatedSalary\", \"Age\"]]\n",
    "y = df['Purchased']\n",
    "X_train,X_test,y_train,y_test = train_test_split(X_over,y_over,test_size=0.2,random_state=42)\n",
    "scaler=StandardScaler()\n",
    "x_tran_scaled=scaler.fit_transform(X_train)\n",
    "x_tast_scaled=scaler.transform(X_test)\n",
    "log_model.fit(X_train,y_train)\n",
    "y_pred_train = log_model.predict(X_train)\n",
    "print('Accuracy_train:',accuracy_score(y_train,y_pred_train))\n",
    "print('classification_report_train:',classification_report(y_train,y_pred_train))\n",
    "print (\"-\"*100)\n",
    "y_pred_test = log_model.predict(X_test)\n",
    "print('Accuracy_test:',accuracy_score(y_test,y_pred_test))\n",
    "print('classification_report_test:',classification_report(y_test,y_pred_test))"
   ]
  },
  {
   "cell_type": "markdown",
   "metadata": {},
   "source": [
    "undersampling"
   ]
  },
  {
   "cell_type": "code",
   "execution_count": 223,
   "metadata": {},
   "outputs": [
    {
     "name": "stdout",
     "output_type": "stream",
     "text": [
      "(286, 2)\n"
     ]
    }
   ],
   "source": [
    "# under sampling\n",
    "from imblearn.under_sampling import RandomUnderSampler\n",
    "\n",
    "rus = RandomUnderSampler(random_state=0)\n",
    "\n",
    "X_under,y_under = rus.fit_resample(X,y)\n",
    "print(X_under.shape)\n"
   ]
  },
  {
   "cell_type": "code",
   "execution_count": 224,
   "metadata": {},
   "outputs": [
    {
     "name": "stdout",
     "output_type": "stream",
     "text": [
      "Accuracy_train: 0.881578947368421\n",
      "classification_report_train:               precision    recall  f1-score   support\n",
      "\n",
      "           0       0.88      0.90      0.89       119\n",
      "           1       0.89      0.86      0.87       109\n",
      "\n",
      "    accuracy                           0.88       228\n",
      "   macro avg       0.88      0.88      0.88       228\n",
      "weighted avg       0.88      0.88      0.88       228\n",
      "\n",
      "----------------------------------------------------------------------------------------------------\n",
      "Accuracy_test: 0.7758620689655172\n",
      "classification_report_test:               precision    recall  f1-score   support\n",
      "\n",
      "           0       0.72      0.75      0.73        24\n",
      "           1       0.82      0.79      0.81        34\n",
      "\n",
      "    accuracy                           0.78        58\n",
      "   macro avg       0.77      0.77      0.77        58\n",
      "weighted avg       0.78      0.78      0.78        58\n",
      "\n"
     ]
    }
   ],
   "source": [
    "log_model = LogisticRegression()\n",
    "X = df[[\"EstimatedSalary\", \"Age\"]]\n",
    "y = df['Purchased']\n",
    "X_train,X_test,y_train,y_test = train_test_split(X_under,y_under,test_size=0.2,random_state=42)\n",
    "log_model.fit(X_train,y_train)\n",
    "y_pred_train = log_model.predict(X_train)\n",
    "print('Accuracy_train:',accuracy_score(y_train,y_pred_train))\n",
    "print('classification_report_train:',classification_report(y_train,y_pred_train))\n",
    "print (\"-\"*100)\n",
    "y_pred_test = log_model.predict(X_test)\n",
    "print('Accuracy_test:',accuracy_score(y_test,y_pred_test))\n",
    "print('classification_report_test:',classification_report(y_test,y_pred_test))"
   ]
  },
  {
   "cell_type": "markdown",
   "metadata": {},
   "source": [
    "undersampling _ scaled"
   ]
  },
  {
   "cell_type": "code",
   "execution_count": 225,
   "metadata": {},
   "outputs": [
    {
     "name": "stdout",
     "output_type": "stream",
     "text": [
      "Accuracy_train: 0.881578947368421\n",
      "classification_report_train:               precision    recall  f1-score   support\n",
      "\n",
      "           0       0.88      0.90      0.89       119\n",
      "           1       0.89      0.86      0.87       109\n",
      "\n",
      "    accuracy                           0.88       228\n",
      "   macro avg       0.88      0.88      0.88       228\n",
      "weighted avg       0.88      0.88      0.88       228\n",
      "\n",
      "----------------------------------------------------------------------------------------------------\n",
      "Accuracy_test: 0.7758620689655172\n",
      "classification_report_test:               precision    recall  f1-score   support\n",
      "\n",
      "           0       0.72      0.75      0.73        24\n",
      "           1       0.82      0.79      0.81        34\n",
      "\n",
      "    accuracy                           0.78        58\n",
      "   macro avg       0.77      0.77      0.77        58\n",
      "weighted avg       0.78      0.78      0.78        58\n",
      "\n"
     ]
    }
   ],
   "source": [
    "log_model = LogisticRegression()\n",
    "X = df[[\"EstimatedSalary\", \"Age\"]]\n",
    "y = df['Purchased']\n",
    "X_train,X_test,y_train,y_test = train_test_split(X_under,y_under,test_size=0.2,random_state=42)\n",
    "scaler=StandardScaler()\n",
    "x_tran_scaled=scaler.fit_transform(X_train)\n",
    "x_tast_scaled=scaler.transform(X_test)\n",
    "log_model.fit(X_train,y_train)\n",
    "y_pred_train = log_model.predict(X_train)\n",
    "print('Accuracy_train:',accuracy_score(y_train,y_pred_train))\n",
    "print('classification_report_train:',classification_report(y_train,y_pred_train))\n",
    "print (\"-\"*100)\n",
    "y_pred_test = log_model.predict(X_test)\n",
    "print('Accuracy_test:',accuracy_score(y_test,y_pred_test))\n",
    "print('classification_report_test:',classification_report(y_test,y_pred_test))"
   ]
  }
 ],
 "metadata": {
  "kernelspec": {
   "display_name": "AMIT",
   "language": "python",
   "name": "python3"
  },
  "language_info": {
   "codemirror_mode": {
    "name": "ipython",
    "version": 3
   },
   "file_extension": ".py",
   "mimetype": "text/x-python",
   "name": "python",
   "nbconvert_exporter": "python",
   "pygments_lexer": "ipython3",
   "version": "3.12.4"
  }
 },
 "nbformat": 4,
 "nbformat_minor": 2
}
