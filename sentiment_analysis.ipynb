{
  "cells": [
    {
      "cell_type": "code",
      "execution_count": 1,
      "metadata": {
        "id": "4MEiIZyeHG2x"
      },
      "outputs": [],
      "source": [
        "import numpy as np\n",
        "import pandas as pd\n",
        "import tensorflow as tf\n",
        "from tensorflow.keras.models import Sequential\n",
        "from tensorflow.keras.layers import Embedding, LSTM, Dense, Dropout\n",
        "from tensorflow.keras.preprocessing.sequence import pad_sequences\n",
        "from tensorflow.keras.preprocessing.text import Tokenizer\n",
        "from sklearn.model_selection import train_test_split\n",
        "from sklearn.metrics import accuracy_score"
      ]
    },
    {
      "cell_type": "code",
      "execution_count": 2,
      "metadata": {
        "colab": {
          "base_uri": "https://localhost:8080/"
        },
        "id": "By3e6Ut3Hl0s",
        "outputId": "6b1d05d4-6264-43fd-eadd-5398ff79c923"
      },
      "outputs": [
        {
          "name": "stdout",
          "output_type": "stream",
          "text": [
            "Downloading data from https://storage.googleapis.com/tensorflow/tf-keras-datasets/imdb.npz\n",
            "17464789/17464789 [==============================] - 17s 1us/step\n"
          ]
        }
      ],
      "source": [
        "from tensorflow.keras.datasets import imdb\n",
        "\n",
        "# Load the IMDB dataset (only use the top 10,000 words for simplicity)\n",
        "max_words = 10000\n",
        "(X_train, y_train), (X_test, y_test) = imdb.load_data(num_words=max_words)"
      ]
    },
    {
      "cell_type": "code",
      "execution_count": 3,
      "metadata": {
        "id": "6LbQqYknHy_l"
      },
      "outputs": [],
      "source": [
        "# Step 3: Preprocess the data\n",
        "# Pad sequences to make them the same length\n",
        "max_len = 100  # We will pad all sequences to length 100\n",
        "X_train_pad = pad_sequences(X_train, maxlen=max_len)\n",
        "X_test_pad = pad_sequences(X_test, maxlen=max_len)\n"
      ]
    },
    {
      "cell_type": "markdown",
      "metadata": {
        "id": "rtEG-Y5m0HKX"
      },
      "source": []
    },
    {
      "cell_type": "code",
      "execution_count": 4,
      "metadata": {
        "colab": {
          "base_uri": "https://localhost:8080/"
        },
        "id": "boBOLaHAH5GE",
        "outputId": "a08cad14-32ab-4f57-cc48-690a6e4532c8"
      },
      "outputs": [],
      "source": [
        "# Step 4: Build the RNN model (using LSTM)\n",
        "model = Sequential()\n",
        "\n",
        "# Embedding layer to convert words to vectors\n",
        "model.add(Embedding(input_dim=max_words, output_dim=128, input_length=max_len))\n",
        "\n",
        "# LSTM layer (RNN)\n",
        "model.add(LSTM(units=128, return_sequences=False))\n",
        "\n",
        "# Optional: Dropout layer to prevent overfitting\n",
        "model.add(Dropout(0.5))\n",
        "\n",
        "# Dense layer for classification (binary sentiment: positive or negative)\n",
        "model.add(Dense(1, activation='sigmoid'))\n"
      ]
    },
    {
      "cell_type": "code",
      "execution_count": 5,
      "metadata": {
        "id": "ml_1E2a-H70b"
      },
      "outputs": [],
      "source": [
        "# Step 5: Compile the model\n",
        "model.compile(optimizer='adam', loss='binary_crossentropy', metrics=['accuracy'])"
      ]
    },
    {
      "cell_type": "code",
      "execution_count": 6,
      "metadata": {
        "colab": {
          "base_uri": "https://localhost:8080/"
        },
        "id": "j9BxbAjVIBIW",
        "outputId": "32ac569c-35c1-4ce5-e4e7-e13f189fdab3"
      },
      "outputs": [
        {
          "name": "stdout",
          "output_type": "stream",
          "text": [
            "Epoch 1/5\n",
            "391/391 [==============================] - 52s 131ms/step - loss: 0.4191 - accuracy: 0.8039 - val_loss: 0.3500 - val_accuracy: 0.8495\n",
            "Epoch 2/5\n",
            "391/391 [==============================] - 53s 136ms/step - loss: 0.2653 - accuracy: 0.8941 - val_loss: 0.3692 - val_accuracy: 0.8476\n",
            "Epoch 3/5\n",
            "391/391 [==============================] - 52s 133ms/step - loss: 0.1912 - accuracy: 0.9262 - val_loss: 0.4165 - val_accuracy: 0.8382\n",
            "Epoch 4/5\n",
            "391/391 [==============================] - 53s 135ms/step - loss: 0.1413 - accuracy: 0.9472 - val_loss: 0.4666 - val_accuracy: 0.8359\n",
            "Epoch 5/5\n",
            "391/391 [==============================] - 53s 135ms/step - loss: 0.1057 - accuracy: 0.9621 - val_loss: 0.5617 - val_accuracy: 0.8291\n"
          ]
        }
      ],
      "source": [
        "# Step 6: Train the model\n",
        "history = model.fit(X_train_pad, y_train, epochs=5, batch_size=64, validation_data=(X_test_pad, y_test))\n"
      ]
    },
    {
      "cell_type": "code",
      "execution_count": 7,
      "metadata": {
        "colab": {
          "base_uri": "https://localhost:8080/"
        },
        "id": "M2ebkwxkIcVv",
        "outputId": "024fb581-0867-499a-e165-f90dfc2dfc41"
      },
      "outputs": [
        {
          "name": "stdout",
          "output_type": "stream",
          "text": [
            "782/782 [==============================] - 11s 14ms/step - loss: 0.5617 - accuracy: 0.8291\n",
            "Test accuracy: 82.91%\n"
          ]
        }
      ],
      "source": [
        "# Step 7: Evaluate the model\n",
        "test_loss, test_accuracy = model.evaluate(X_test_pad, y_test)\n",
        "print(f'Test accuracy: {test_accuracy*100:.2f}%')"
      ]
    },
    {
      "cell_type": "code",
      "execution_count": 8,
      "metadata": {
        "colab": {
          "base_uri": "https://localhost:8080/"
        },
        "id": "4M_8gRSMJPMM",
        "outputId": "0e74a44b-83fd-4616-80c3-bbed9957974c"
      },
      "outputs": [
        {
          "name": "stdout",
          "output_type": "stream",
          "text": [
            "782/782 [==============================] - 11s 14ms/step\n"
          ]
        }
      ],
      "source": [
        "# Step 8: Make predictions (Optional, just to demonstrate)\n",
        "predictions = model.predict(X_test_pad)"
      ]
    },
    {
      "cell_type": "code",
      "execution_count": 9,
      "metadata": {
        "id": "iKjavMwbJTJL"
      },
      "outputs": [],
      "source": [
        "# Convert predictions to binary (0 or 1) for sentiment (0 - Negative, 1 - Positive)\n",
        "predictions = (predictions > 0.5).astype(int)"
      ]
    },
    {
      "cell_type": "code",
      "execution_count": 10,
      "metadata": {
        "colab": {
          "base_uri": "https://localhost:8080/"
        },
        "id": "ipnt7u8FJZEe",
        "outputId": "260f3488-3223-49b2-8892-bdd1cc5ef55b"
      },
      "outputs": [
        {
          "name": "stdout",
          "output_type": "stream",
          "text": [
            "Accuracy on test set: 82.91%\n"
          ]
        }
      ],
      "source": [
        "# Evaluate using accuracy score\n",
        "print(f'Accuracy on test set: {accuracy_score(y_test, predictions)*100:.2f}%')"
      ]
    }
  ],
  "metadata": {
    "colab": {
      "provenance": []
    },
    "kernelspec": {
      "display_name": "aly_env",
      "language": "python",
      "name": "python3"
    },
    "language_info": {
      "codemirror_mode": {
        "name": "ipython",
        "version": 3
      },
      "file_extension": ".py",
      "mimetype": "text/x-python",
      "name": "python",
      "nbconvert_exporter": "python",
      "pygments_lexer": "ipython3",
      "version": "3.8.19"
    }
  },
  "nbformat": 4,
  "nbformat_minor": 0
}
