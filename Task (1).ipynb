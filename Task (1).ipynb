{
 "cells": [
  {
   "cell_type": "code",
   "execution_count": 1,
   "id": "98414245",
   "metadata": {},
   "outputs": [],
   "source": [
    "import pandas as pd\n",
    "import numpy as np"
   ]
  },
  {
   "cell_type": "code",
   "execution_count": 2,
   "id": "44e924e6",
   "metadata": {},
   "outputs": [
    {
     "name": "stdout",
     "output_type": "stream",
     "text": [
      "Series with updated index:\n",
      "A    10\n",
      "B    20\n",
      "C    30\n",
      "D    40\n",
      "dtype: int64\n"
     ]
    }
   ],
   "source": [
    "# Initialize a Series\n",
    "data_series = pd.Series([10, 20, 30, 40])\n",
    "data_series.index = ['A', 'B', 'C', 'D'] \n",
    "print(\"Series with updated index:\")\n",
    "print(data_series)"
   ]
  },
  {
   "cell_type": "code",
   "execution_count": 3,
   "id": "2b2338c2",
   "metadata": {},
   "outputs": [],
   "source": [
    "# Initialize a DataFrame\n",
    "data = {\n",
    "    'name': ['Ahmed'] * 3 + ['Ali', 'Sara', 'Omar', 'Laila', 'Ahmed', 'Hana', 'Mona'],\n",
    "    'age': np.random.randint(18, 50, size=10),\n",
    "    'gender': ['Male', 'Male', 'Male', 'Male', 'Female', 'Male', 'Female', 'Male', 'Female', 'Female']\n",
    "}\n",
    "df = pd.DataFrame(data)"
   ]
  },
  {
   "cell_type": "code",
   "execution_count": 4,
   "id": "eb3b22a5",
   "metadata": {},
   "outputs": [
    {
     "name": "stdout",
     "output_type": "stream",
     "text": [
      "\n",
      "DataFrame Data Types:\n",
      "name      object\n",
      "age        int32\n",
      "gender    object\n",
      "dtype: object\n"
     ]
    }
   ],
   "source": [
    "# Check DataTypes\n",
    "print(\"\\nDataFrame Data Types:\")\n",
    "print(df.dtypes)"
   ]
  },
  {
   "cell_type": "code",
   "execution_count": 5,
   "id": "59692bf4",
   "metadata": {},
   "outputs": [
    {
     "name": "stdout",
     "output_type": "stream",
     "text": [
      "\n",
      "First 3 Rows:\n",
      "    name  age gender\n",
      "0  Ahmed   23   Male\n",
      "1  Ahmed   42   Male\n",
      "2  Ahmed   43   Male\n"
     ]
    }
   ],
   "source": [
    "# Get first 3 rows in data\n",
    "print(\"\\nFirst 3 Rows:\")\n",
    "print(df.head(3))\n"
   ]
  },
  {
   "cell_type": "code",
   "execution_count": 6,
   "id": "3acce574",
   "metadata": {},
   "outputs": [
    {
     "name": "stdout",
     "output_type": "stream",
     "text": [
      "\n",
      "Last 4 Rows:\n",
      "    name  age  gender\n",
      "6  Laila   27  Female\n",
      "7  Ahmed   36    Male\n",
      "8   Hana   21  Female\n",
      "9   Mona   36  Female\n"
     ]
    }
   ],
   "source": [
    "# Get last 4 rows in data\n",
    "print(\"\\nLast 4 Rows:\")\n",
    "print(df.tail(4))"
   ]
  },
  {
   "cell_type": "code",
   "execution_count": 7,
   "id": "ca1d12dd",
   "metadata": {},
   "outputs": [
    {
     "name": "stdout",
     "output_type": "stream",
     "text": [
      "\n",
      "Statistical Measurements:\n",
      "             age\n",
      "count  10.000000\n",
      "mean   35.600000\n",
      "std     9.070097\n",
      "min    21.000000\n",
      "25%    29.250000\n",
      "50%    36.500000\n",
      "75%    42.750000\n",
      "max    46.000000\n"
     ]
    }
   ],
   "source": [
    "# Get Statistical Measurements\n",
    "print(\"\\nStatistical Measurements:\")\n",
    "print(df.describe())"
   ]
  },
  {
   "cell_type": "code",
   "execution_count": 8,
   "id": "d45d07a8",
   "metadata": {},
   "outputs": [
    {
     "name": "stdout",
     "output_type": "stream",
     "text": [
      "\n",
      "Unique Values in 'name' Column:\n",
      "['Ahmed' 'Ali' 'Sara' 'Omar' 'Laila' 'Hana' 'Mona']\n"
     ]
    }
   ],
   "source": [
    "# Get unique values in column 'name'\n",
    "unique_names = df['name'].unique()\n",
    "print(\"\\nUnique Values in 'name' Column:\")\n",
    "print(unique_names)\n"
   ]
  },
  {
   "cell_type": "code",
   "execution_count": 9,
   "id": "5a13769f",
   "metadata": {},
   "outputs": [
    {
     "name": "stdout",
     "output_type": "stream",
     "text": [
      "\n",
      "DataFrame with Duplicate 'age' Column:\n",
      "    name  age  gender  age_duplicate\n",
      "0  Ahmed   23    Male             23\n",
      "1  Ahmed   42    Male             42\n",
      "2  Ahmed   43    Male             43\n",
      "3    Ali   37    Male             37\n",
      "4   Sara   45  Female             45\n",
      "5   Omar   46    Male             46\n",
      "6  Laila   27  Female             27\n",
      "7  Ahmed   36    Male             36\n",
      "8   Hana   21  Female             21\n",
      "9   Mona   36  Female             36\n"
     ]
    }
   ],
   "source": [
    "# Duplicate age values\n",
    "df['age_duplicate'] = df['age']  \n",
    "print(\"\\nDataFrame with Duplicate 'age' Column:\")\n",
    "print(df)"
   ]
  },
  {
   "cell_type": "code",
   "execution_count": 10,
   "id": "26d11151",
   "metadata": {},
   "outputs": [
    {
     "name": "stdout",
     "output_type": "stream",
     "text": [
      "\n",
      "Second value in 'gender' column using iloc:\n",
      "Male\n"
     ]
    }
   ],
   "source": [
    "# Indexing and slicing\n",
    "second_gender_iloc = df.iloc[1]['gender']\n",
    "print(\"\\nSecond value in 'gender' column using iloc:\")\n",
    "print(second_gender_iloc)"
   ]
  },
  {
   "cell_type": "code",
   "execution_count": 11,
   "id": "5a0a5c9d",
   "metadata": {},
   "outputs": [
    {
     "name": "stdout",
     "output_type": "stream",
     "text": [
      "\n",
      "Second value in 'gender' column using loc:\n",
      "Male\n"
     ]
    }
   ],
   "source": [
    "# Get second value in column 'gender' using loc\n",
    "second_gender_loc = df.loc[1, 'gender']\n",
    "print(\"\\nSecond value in 'gender' column using loc:\")\n",
    "print(second_gender_loc)"
   ]
  },
  {
   "cell_type": "code",
   "execution_count": 12,
   "id": "db10eba9",
   "metadata": {},
   "outputs": [
    {
     "name": "stdout",
     "output_type": "stream",
     "text": [
      "\n",
      "Slicing rows from index 2 to 5 using iloc:\n",
      "    name  age  gender  age_duplicate\n",
      "2  Ahmed   43    Male             43\n",
      "3    Ali   37    Male             37\n",
      "4   Sara   45  Female             45\n",
      "5   Omar   46    Male             46\n"
     ]
    }
   ],
   "source": [
    "# Slicing with iloc from index 2 to index 5\n",
    "slice_iloc = df.iloc[2:6]  \n",
    "print(\"\\nSlicing rows from index 2 to 5 using iloc:\")\n",
    "print(slice_iloc)\n"
   ]
  },
  {
   "cell_type": "code",
   "execution_count": 13,
   "id": "c5678cba",
   "metadata": {},
   "outputs": [
    {
     "name": "stdout",
     "output_type": "stream",
     "text": [
      "\n",
      "Slicing rows from index 2 to 5 using loc:\n",
      "    name  age  gender  age_duplicate\n",
      "2  Ahmed   43    Male             43\n",
      "3    Ali   37    Male             37\n",
      "4   Sara   45  Female             45\n",
      "5   Omar   46    Male             46\n"
     ]
    }
   ],
   "source": [
    "# Slicing with loc from index 2 to index 5\n",
    "slice_loc = df.loc[2:5] \n",
    "print(\"\\nSlicing rows from index 2 to 5 using loc:\")\n",
    "print(slice_loc)"
   ]
  },
  {
   "cell_type": "code",
   "execution_count": null,
   "id": "37f96c62",
   "metadata": {},
   "outputs": [],
   "source": []
  }
 ],
 "metadata": {
  "kernelspec": {
   "display_name": "Python 3 (ipykernel)",
   "language": "python",
   "name": "python3"
  },
  "language_info": {
   "codemirror_mode": {
    "name": "ipython",
    "version": 3
   },
   "file_extension": ".py",
   "mimetype": "text/x-python",
   "name": "python",
   "nbconvert_exporter": "python",
   "pygments_lexer": "ipython3",
   "version": "3.9.12"
  }
 },
 "nbformat": 4,
 "nbformat_minor": 5
}
